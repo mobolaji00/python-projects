{
 "cells": [
  {
   "cell_type": "code",
   "execution_count": 73,
   "metadata": {
    "collapsed": false
   },
   "outputs": [],
   "source": [
    "%matplotlib inline\n",
    "\n",
    "import numpy as np\n",
    "import scipy as sp\n",
    "from scipy import stats\n",
    "\n",
    "import matplotlib as mpl\n",
    "import matplotlib.cm as cm\n",
    "import matplotlib.pyplot as plt\n",
    "from mpl_toolkits.mplot3d import Axes3D\n",
    "\n",
    "import pandas as pd\n",
    "pd.set_option('display.width', 500)\n",
    "pd.set_option('display.max_columns', 100)\n",
    "pd.set_option('display.notebook_repr_html', True)\n",
    "\n",
    "import seaborn as sns\n",
    "sns.set_context(\"poster\") \n",
    "\n",
    "import dateutil\n",
    "import datetime\n",
    "\n",
    "import lifelines\n",
    "import statsmodels.iolib.foreign as smio\n",
    "from rpy2.robjects import pandas2ri, r\n",
    "\n",
    "import re\n",
    "\n",
    "import pudb"
   ]
  },
  {
   "cell_type": "code",
   "execution_count": 74,
   "metadata": {
    "collapsed": true
   },
   "outputs": [],
   "source": [
    "#function to read file and put into array & dataframe\n",
    "def read_data(filename,col1=\"Size\",col2=\"Bed\",col3=\"Price\"):\n",
    "    data_arr = np.loadtxt(filename,delimiter=\",\")\n",
    "    data_df = pd.DataFrame(data_arr)\n",
    "    data_df.index = list(range(1, data_df.shape[0]+1))\n",
    "    data_df.columns = list([col1,col2,col3])\n",
    "    return data_arr,data_df"
   ]
  },
  {
   "cell_type": "code",
   "execution_count": 75,
   "metadata": {
    "collapsed": false
   },
   "outputs": [],
   "source": [
    "data_arr,data_df = read_data('ex1data2.txt')"
   ]
  },
  {
   "cell_type": "code",
   "execution_count": 261,
   "metadata": {
    "collapsed": false
   },
   "outputs": [],
   "source": [
    "# function to plot scatterplot for preliminary data view\n",
    "def plot_data(data_arr_x,data_arr_y,x_label,y_label,x_scale,y_scale,skip=1,color='black'):\n",
    "    fig, ax = plt.subplots()\n",
    "    ax.scatter(data_arr_x[0::skip]/x_scale, data_arr_y[0::skip]/y_scale,color=color)\n",
    "    \n",
    "    plt.xlabel(x_label)\n",
    "    plt.ylabel(y_label)\n",
    "    \n",
    "    plt.xlim(min(data_arr_x/x_scale)-2,max(data_arr_x/x_scale)+2) \n",
    "    plt.ylim(min(data_arr_y/y_scale)-2,max(data_arr_y/y_scale)+2)\n",
    "    \n",
    "    find_grid_0 = np.where(ax.get_xticks() == 0)[0][0]\n",
    "    find_grid_0 = find_grid_0.astype(int)\n",
    "    \n",
    "    x = ax.get_xgridlines()\n",
    "    x_grid_0 = x[find_grid_0]\n",
    "    x_grid_0.set_color('black')\n",
    "    \n",
    "    find_grid_0 = np.where(ax.get_yticks() == 0)[0][0]\n",
    "    find_grid_0 = find_grid_0.astype(int)\n",
    "\n",
    "    y = ax.get_ygridlines()\n",
    "    y_grid_0 = y[find_grid_0]\n",
    "    y_grid_0.set_color('black')\n",
    "    "
   ]
  },
  {
   "cell_type": "code",
   "execution_count": 262,
   "metadata": {
    "collapsed": false
   },
   "outputs": [
    {
     "data": {
      "image/png": "[encoded data removed]",
      "text/plain": [
       "<matplotlib.figure.Figure at 0x10d67b150>"
      ]
     },
     "metadata": {},
     "output_type": "display_data"
    }
   ],
   "source": [
    "plot_data(data_arr[:,0],data_arr[:,2],\"Size\",\"Price\",1000,1000000)"
   ]
  },
  {
   "cell_type": "code",
   "execution_count": 78,
   "metadata": {
    "collapsed": false
   },
   "outputs": [
    {
     "data": {
      "image/png": "[encoded data removed]",
      "text/plain": [
       "<matplotlib.figure.Figure at 0x10ea3b450>"
      ]
     },
     "metadata": {},
     "output_type": "display_data"
    }
   ],
   "source": [
    "plot_data(data_arr[:,1],data_arr[:,2],\"Bed\",\"Price\",1,1000000)"
   ]
  },
  {
   "cell_type": "code",
   "execution_count": 79,
   "metadata": {
    "collapsed": false
   },
   "outputs": [
    {
     "data": {
      "text/html": [
       "<div>\n",
       "<table border=\"1\" class=\"dataframe\">\n",
       "  <thead>\n",
       "    <tr style=\"text-align: right;\">\n",
       "      <th></th>\n",
       "      <th>0</th>\n",
       "      <th>1</th>\n",
       "      <th>2</th>\n",
       "    </tr>\n",
       "  </thead>\n",
       "  <tbody>\n",
       "    <tr>\n",
       "      <th>count</th>\n",
       "      <td>47</td>\n",
       "      <td>47</td>\n",
       "      <td>47</td>\n",
       "    </tr>\n",
       "    <tr>\n",
       "      <th>mean</th>\n",
       "      <td>2000</td>\n",
       "      <td>3</td>\n",
       "      <td>340412</td>\n",
       "    </tr>\n",
       "    <tr>\n",
       "      <th>median</th>\n",
       "      <td>1888</td>\n",
       "      <td>3</td>\n",
       "      <td>299900</td>\n",
       "    </tr>\n",
       "    <tr>\n",
       "      <th>std</th>\n",
       "      <td>794</td>\n",
       "      <td>0</td>\n",
       "      <td>125039</td>\n",
       "    </tr>\n",
       "    <tr>\n",
       "      <th>min</th>\n",
       "      <td>852</td>\n",
       "      <td>1</td>\n",
       "      <td>169900</td>\n",
       "    </tr>\n",
       "    <tr>\n",
       "      <th>25%</th>\n",
       "      <td>1432</td>\n",
       "      <td>3</td>\n",
       "      <td>249900</td>\n",
       "    </tr>\n",
       "    <tr>\n",
       "      <th>50%</th>\n",
       "      <td>1888</td>\n",
       "      <td>3</td>\n",
       "      <td>299900</td>\n",
       "    </tr>\n",
       "    <tr>\n",
       "      <th>75%</th>\n",
       "      <td>2269</td>\n",
       "      <td>4</td>\n",
       "      <td>384450</td>\n",
       "    </tr>\n",
       "    <tr>\n",
       "      <th>max</th>\n",
       "      <td>4478</td>\n",
       "      <td>5</td>\n",
       "      <td>699900</td>\n",
       "    </tr>\n",
       "  </tbody>\n",
       "</table>\n",
       "</div>"
      ],
      "text/plain": [
       "           0   1       2\n",
       "count     47  47      47\n",
       "mean    2000   3  340412\n",
       "median  1888   3  299900\n",
       "std      794   0  125039\n",
       "min      852   1  169900\n",
       "25%     1432   3  249900\n",
       "50%     1888   3  299900\n",
       "75%     2269   4  384450\n",
       "max     4478   5  699900"
      ]
     },
     "execution_count": 79,
     "metadata": {},
     "output_type": "execute_result"
    }
   ],
   "source": [
    "#get descriptive statistics into  a dataframe\n",
    "desc_stats = pd.DataFrame(data_arr[:,:]).describe()\n",
    "desc_stats = desc_stats.astype(int)\n",
    "desc_stats.loc[\"median\"] = pd.DataFrame(data_arr[:,:]).median()\n",
    "desc_stats = desc_stats.reindex([\"count\", \"mean\", \"median\",\"std\",\"min\",\"25%\",\"50%\",\"75%\",\"max\"])\n",
    "desc_stats"
   ]
  },
  {
   "cell_type": "code",
   "execution_count": 80,
   "metadata": {
    "collapsed": true
   },
   "outputs": [],
   "source": [
    "#function that takes in data ndarray and returns arrays of examples(X), parameters(theta)\n",
    "#and indicators(Y)\n",
    "def make_X_theta_Y(data_arr,y_index):\n",
    "    \n",
    "    theta = np.zeros(shape=data_arr.shape[1])\n",
    "    \n",
    "    Y = data_arr[:,y_index]\n",
    "    \n",
    "    cols = data_arr.shape[1]\n",
    "    cols = np.asarray(range(0,cols))\n",
    "    \n",
    "    X_Rest = data_arr[:,np.where(cols != y_index)]\n",
    "    \n",
    "    s1 = X_Rest.shape[0]\n",
    "    s2 = X_Rest.shape[2]\n",
    "    \n",
    "    X_Rest = X_Rest.reshape((s1, s2))\n",
    "    \n",
    "    X_0 = np.ones(shape=s1)\n",
    "\n",
    "    X = np.hstack((X_0[:, np.newaxis],X_Rest))\n",
    "    \n",
    "    return theta,X,Y\n"
   ]
  },
  {
   "cell_type": "code",
   "execution_count": 81,
   "metadata": {
    "collapsed": false
   },
   "outputs": [],
   "source": [
    "theta,X,Y = make_X_theta_Y(data_arr,2)"
   ]
  },
  {
   "cell_type": "code",
   "execution_count": 82,
   "metadata": {
    "collapsed": true
   },
   "outputs": [],
   "source": [
    "#function that takes in parameters(theta) and examples (X) and returns hypothesis (h)\n",
    "def hypothesis(theta,X):\n",
    "    h = np.dot(theta.T,X.T)\n",
    "    return h"
   ]
  },
  {
   "cell_type": "code",
   "execution_count": 83,
   "metadata": {
    "collapsed": false
   },
   "outputs": [
    {
     "data": {
      "text/plain": [
       "array([[ 0.,  0.,  0.,  0.,  0.,  0.,  0.,  0.,  0.,  0.,  0.,  0.,  0.,\n",
       "         0.,  0.,  0.,  0.,  0.,  0.,  0.,  0.,  0.,  0.,  0.,  0.,  0.,\n",
       "         0.,  0.,  0.,  0.,  0.,  0.,  0.,  0.,  0.,  0.,  0.,  0.,  0.,\n",
       "         0.,  0.,  0.,  0.,  0.,  0.,  0.,  0.]])"
      ]
     },
     "execution_count": 83,
     "metadata": {},
     "output_type": "execute_result"
    }
   ],
   "source": [
    "h = hypothesis(theta[:, np.newaxis],X)\n",
    "h"
   ]
  },
  {
   "cell_type": "code",
   "execution_count": 84,
   "metadata": {
    "collapsed": true
   },
   "outputs": [],
   "source": [
    "#function that calculates the cost (J) from the hypothesis(h) and indicators(Y)\n",
    "def error_cost(h,Y):\n",
    "    \n",
    "    a = h-Y\n",
    "    b = a**2\n",
    "    \n",
    "    cost = b.sum()/(2*Y.shape[0])\n",
    "    return cost"
   ]
  },
  {
   "cell_type": "code",
   "execution_count": 85,
   "metadata": {
    "collapsed": false
   },
   "outputs": [
    {
     "data": {
      "text/plain": [
       "65591548106.457443"
      ]
     },
     "execution_count": 85,
     "metadata": {},
     "output_type": "execute_result"
    }
   ],
   "source": [
    "cost = error_cost(h,Y)\n",
    "cost"
   ]
  },
  {
   "cell_type": "code",
   "execution_count": 224,
   "metadata": {
    "collapsed": true
   },
   "outputs": [],
   "source": [
    "#function that updates theta using batch gradient descent\n",
    "def gradient_descent(theta,X,Y,alpha):\n",
    "       \n",
    "    h = hypothesis(theta,X)\n",
    "    a = h-Y \n",
    "    \n",
    "    g = np.zeros(theta.shape[0])\n",
    "    \n",
    "    for i in range(0,g.shape[0]):\n",
    "        \n",
    "        holder = a*X[:,i] \n",
    "        holder = holder.sum()\n",
    "        holder = (holder*alpha)/(Y.shape[0])\n",
    "        \n",
    "        g[i] = holder\n",
    "\n",
    "    new_theta = theta-g[:,np.newaxis]\n",
    "    return new_theta"
   ]
  },
  {
   "cell_type": "code",
   "execution_count": 225,
   "metadata": {
    "collapsed": true
   },
   "outputs": [],
   "source": [
    "#set number of iterations of gradient descent to run and the value of alpha \n",
    "iterations = 1500\n",
    "alpha = 0.00000001"
   ]
  },
  {
   "cell_type": "code",
   "execution_count": 266,
   "metadata": {
    "collapsed": false
   },
   "outputs": [],
   "source": [
    "#run gradient descent and save the changing values of the parameters(to_plot_0,to_plot_1)\n",
    "#and cost (to_plot_j)\n",
    "\n",
    "changing_theta = theta\n",
    "theta_iter_i = changing_theta[:,np.newaxis]\n",
    "\n",
    "changing_j = error_cost(hypothesis(theta_iter_i,X),Y)\n",
    "\n",
    "for i in range(0,iterations):\n",
    "    theta_iter_i = gradient_descent(theta_iter_i,X,Y,alpha) \n",
    "\n",
    "    changing_theta = np.hstack((changing_theta.reshape(3,i+1),theta_iter_i))\n",
    "    \n",
    "    s = error_cost(hypothesis(theta_iter_i,X),Y)\n",
    "    changing_j = np.hstack((changing_j,s))\n"
   ]
  },
  {
   "cell_type": "code",
   "execution_count": 267,
   "metadata": {
    "collapsed": false
   },
   "outputs": [
    {
     "data": {
      "image/png": "[encoded data removed]",
      "text/plain": [
       "<matplotlib.figure.Figure at 0x10f662110>"
      ]
     },
     "metadata": {},
     "output_type": "display_data"
    }
   ],
   "source": [
    "plot_data(np.asarray(range(0,changing_theta[0].shape[0])),changing_theta[0],\"X\",\"Y\",1,1,50,'red')\n"
   ]
  },
  {
   "cell_type": "code",
   "execution_count": 268,
   "metadata": {
    "collapsed": false
   },
   "outputs": [
    {
     "data": {
      "image/png": "[encoded data removed]",
      "text/plain": [
       "<matplotlib.figure.Figure at 0x10e6c0e50>"
      ]
     },
     "metadata": {},
     "output_type": "display_data"
    }
   ],
   "source": [
    "plot_data(np.asarray(range(0,changing_theta[1].shape[0])),changing_theta[1],\"X\",\"Y\",1,1,50,'blue')\n"
   ]
  },
  {
   "cell_type": "code",
   "execution_count": 265,
   "metadata": {
    "collapsed": false
   },
   "outputs": [
    {
     "data": {
      "image/png": "[encoded data removed]",
      "text/plain": [
       "<matplotlib.figure.Figure at 0x10dbf2f10>"
      ]
     },
     "metadata": {},
     "output_type": "display_data"
    }
   ],
   "source": [
    "plot_data(np.asarray(range(0,changing_theta[2].shape[0])),changing_theta[2],\"X\",\"Y\",1,1,50,'green')\n"
   ]
  },
  {
   "cell_type": "code",
   "execution_count": null,
   "metadata": {
    "collapsed": true
   },
   "outputs": [],
   "source": []
  },
  {
   "cell_type": "code",
   "execution_count": null,
   "metadata": {
    "collapsed": true
   },
   "outputs": [],
   "source": []
  },
  {
   "cell_type": "code",
   "execution_count": null,
   "metadata": {
    "collapsed": true
   },
   "outputs": [],
   "source": []
  },
  {
   "cell_type": "code",
   "execution_count": null,
   "metadata": {
    "collapsed": true
   },
   "outputs": [],
   "source": []
  },
  {
   "cell_type": "code",
   "execution_count": 93,
   "metadata": {
    "collapsed": true
   },
   "outputs": [],
   "source": [
    "#r = theta[:,np.newaxis]\n",
    "#p = theta[np.newaxis,:][:]\n",
    "#f = np.hstack((r,r))\n",
    "\n",
    "#s = np.logical_not(np.isnan(changing_theta[1]))#.sum()\n",
    "#r = changing_theta[1][s]\n"
   ]
  }
 ],
 "metadata": {
  "kernelspec": {
   "display_name": "Python 2",
   "language": "python",
   "name": "python2"
  },
  "language_info": {
   "codemirror_mode": {
    "name": "ipython",
    "version": 2
   },
   "file_extension": ".py",
   "mimetype": "text/x-python",
   "name": "python",
   "nbconvert_exporter": "python",
   "pygments_lexer": "ipython2",
   "version": "2.7.11"
  }
 },
 "nbformat": 4,
 "nbformat_minor": 0
}
